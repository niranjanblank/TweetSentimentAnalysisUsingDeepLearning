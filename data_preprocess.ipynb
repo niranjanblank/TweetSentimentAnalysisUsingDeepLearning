{
 "cells": [
  {
   "cell_type": "code",
   "execution_count": 11,
   "id": "6e182cc7",
   "metadata": {
    "ExecuteTime": {
     "end_time": "2023-05-22T09:55:37.978837500Z",
     "start_time": "2023-05-22T09:55:37.952774200Z"
    }
   },
   "outputs": [],
   "source": [
    "import pandas as pd\n",
    "from helper_functions import pre_process_tweet"
   ]
  },
  {
   "cell_type": "code",
   "execution_count": 2,
   "id": "4c4c00ad",
   "metadata": {
    "ExecuteTime": {
     "end_time": "2023-05-22T09:48:38.784264400Z",
     "start_time": "2023-05-22T09:48:28.897568700Z"
    }
   },
   "outputs": [],
   "source": [
    "data = pd.read_csv('data.csv',encoding='ISO-8859-1', header=None)"
   ]
  },
  {
   "cell_type": "code",
   "execution_count": 12,
   "id": "9108c67d",
   "metadata": {},
   "outputs": [
    {
     "name": "stderr",
     "output_type": "stream",
     "text": [
      "[nltk_data] Downloading package stopwords to\n",
      "[nltk_data]     C:\\Users\\blank\\AppData\\Roaming\\nltk_data...\n",
      "[nltk_data]   Package stopwords is already up-to-date!\n",
      "[nltk_data] Downloading package punkt to\n",
      "[nltk_data]     C:\\Users\\blank\\AppData\\Roaming\\nltk_data...\n",
      "[nltk_data]   Package punkt is already up-to-date!\n",
      "[nltk_data] Downloading package wordnet to\n",
      "[nltk_data]     C:\\Users\\blank\\AppData\\Roaming\\nltk_data...\n"
     ]
    },
    {
     "data": {
      "text/plain": [
       "True"
      ]
     },
     "execution_count": 12,
     "metadata": {},
     "output_type": "execute_result"
    }
   ],
   "source": [
    "nltk.download('stopwords')\n",
    "nltk.download('punkt')\n",
    "nltk.download('wordnet')"
   ]
  },
  {
   "cell_type": "code",
   "execution_count": 3,
   "id": "2de6764e",
   "metadata": {
    "ExecuteTime": {
     "end_time": "2023-05-22T09:48:49.906668Z",
     "start_time": "2023-05-22T09:48:49.871581800Z"
    }
   },
   "outputs": [],
   "source": [
    "# naming the columns as they weren't named in the data\n",
    "data.columns = ['target','ids','date','flag','user','text']"
   ]
  },
  {
   "cell_type": "code",
   "execution_count": 5,
   "id": "459618c4",
   "metadata": {
    "ExecuteTime": {
     "end_time": "2023-05-22T09:49:33.740932700Z",
     "start_time": "2023-05-22T09:49:33.605322800Z"
    }
   },
   "outputs": [
    {
     "data": {
      "text/plain": "   target         ids                          date      flag   \n0       0  1467810369  Mon Apr 06 22:19:45 PDT 2009  NO_QUERY  \\\n1       0  1467810672  Mon Apr 06 22:19:49 PDT 2009  NO_QUERY   \n2       0  1467810917  Mon Apr 06 22:19:53 PDT 2009  NO_QUERY   \n3       0  1467811184  Mon Apr 06 22:19:57 PDT 2009  NO_QUERY   \n4       0  1467811193  Mon Apr 06 22:19:57 PDT 2009  NO_QUERY   \n5       0  1467811372  Mon Apr 06 22:20:00 PDT 2009  NO_QUERY   \n6       0  1467811592  Mon Apr 06 22:20:03 PDT 2009  NO_QUERY   \n7       0  1467811594  Mon Apr 06 22:20:03 PDT 2009  NO_QUERY   \n8       0  1467811795  Mon Apr 06 22:20:05 PDT 2009  NO_QUERY   \n9       0  1467812025  Mon Apr 06 22:20:09 PDT 2009  NO_QUERY   \n\n              user                                               text  \n0  _TheSpecialOne_  @switchfoot http://twitpic.com/2y1zl - Awww, t...  \n1    scotthamilton  is upset that he can't update his Facebook by ...  \n2         mattycus  @Kenichan I dived many times for the ball. Man...  \n3          ElleCTF    my whole body feels itchy and like its on fire   \n4           Karoli  @nationwideclass no, it's not behaving at all....  \n5         joy_wolf                      @Kwesidei not the whole crew   \n6          mybirch                                        Need a hug   \n7             coZZ  @LOLTrish hey  long time no see! Yes.. Rains a...  \n8  2Hood4Hollywood               @Tatiana_K nope they didn't have it   \n9          mimismo                          @twittera que me muera ?   ",
      "text/html": "<div>\n<style scoped>\n    .dataframe tbody tr th:only-of-type {\n        vertical-align: middle;\n    }\n\n    .dataframe tbody tr th {\n        vertical-align: top;\n    }\n\n    .dataframe thead th {\n        text-align: right;\n    }\n</style>\n<table border=\"1\" class=\"dataframe\">\n  <thead>\n    <tr style=\"text-align: right;\">\n      <th></th>\n      <th>target</th>\n      <th>ids</th>\n      <th>date</th>\n      <th>flag</th>\n      <th>user</th>\n      <th>text</th>\n    </tr>\n  </thead>\n  <tbody>\n    <tr>\n      <th>0</th>\n      <td>0</td>\n      <td>1467810369</td>\n      <td>Mon Apr 06 22:19:45 PDT 2009</td>\n      <td>NO_QUERY</td>\n      <td>_TheSpecialOne_</td>\n      <td>@switchfoot http://twitpic.com/2y1zl - Awww, t...</td>\n    </tr>\n    <tr>\n      <th>1</th>\n      <td>0</td>\n      <td>1467810672</td>\n      <td>Mon Apr 06 22:19:49 PDT 2009</td>\n      <td>NO_QUERY</td>\n      <td>scotthamilton</td>\n      <td>is upset that he can't update his Facebook by ...</td>\n    </tr>\n    <tr>\n      <th>2</th>\n      <td>0</td>\n      <td>1467810917</td>\n      <td>Mon Apr 06 22:19:53 PDT 2009</td>\n      <td>NO_QUERY</td>\n      <td>mattycus</td>\n      <td>@Kenichan I dived many times for the ball. Man...</td>\n    </tr>\n    <tr>\n      <th>3</th>\n      <td>0</td>\n      <td>1467811184</td>\n      <td>Mon Apr 06 22:19:57 PDT 2009</td>\n      <td>NO_QUERY</td>\n      <td>ElleCTF</td>\n      <td>my whole body feels itchy and like its on fire</td>\n    </tr>\n    <tr>\n      <th>4</th>\n      <td>0</td>\n      <td>1467811193</td>\n      <td>Mon Apr 06 22:19:57 PDT 2009</td>\n      <td>NO_QUERY</td>\n      <td>Karoli</td>\n      <td>@nationwideclass no, it's not behaving at all....</td>\n    </tr>\n    <tr>\n      <th>5</th>\n      <td>0</td>\n      <td>1467811372</td>\n      <td>Mon Apr 06 22:20:00 PDT 2009</td>\n      <td>NO_QUERY</td>\n      <td>joy_wolf</td>\n      <td>@Kwesidei not the whole crew</td>\n    </tr>\n    <tr>\n      <th>6</th>\n      <td>0</td>\n      <td>1467811592</td>\n      <td>Mon Apr 06 22:20:03 PDT 2009</td>\n      <td>NO_QUERY</td>\n      <td>mybirch</td>\n      <td>Need a hug</td>\n    </tr>\n    <tr>\n      <th>7</th>\n      <td>0</td>\n      <td>1467811594</td>\n      <td>Mon Apr 06 22:20:03 PDT 2009</td>\n      <td>NO_QUERY</td>\n      <td>coZZ</td>\n      <td>@LOLTrish hey  long time no see! Yes.. Rains a...</td>\n    </tr>\n    <tr>\n      <th>8</th>\n      <td>0</td>\n      <td>1467811795</td>\n      <td>Mon Apr 06 22:20:05 PDT 2009</td>\n      <td>NO_QUERY</td>\n      <td>2Hood4Hollywood</td>\n      <td>@Tatiana_K nope they didn't have it</td>\n    </tr>\n    <tr>\n      <th>9</th>\n      <td>0</td>\n      <td>1467812025</td>\n      <td>Mon Apr 06 22:20:09 PDT 2009</td>\n      <td>NO_QUERY</td>\n      <td>mimismo</td>\n      <td>@twittera que me muera ?</td>\n    </tr>\n  </tbody>\n</table>\n</div>"
     },
     "execution_count": 5,
     "metadata": {},
     "output_type": "execute_result"
    }
   ],
   "source": [
    "data.head(10)"
   ]
  },
  {
   "cell_type": "code",
   "execution_count": 14,
   "outputs": [],
   "source": [
    "tweet = data['text'][2]"
   ],
   "metadata": {
    "collapsed": false,
    "ExecuteTime": {
     "end_time": "2023-05-22T09:55:50.679086500Z",
     "start_time": "2023-05-22T09:55:50.655078900Z"
    }
   }
  },
  {
   "cell_type": "code",
   "execution_count": 15,
   "outputs": [
    {
     "data": {
      "text/plain": "'@Kenichan I dived many times for the ball. Managed to save 50%  The rest go out of bounds'"
     },
     "execution_count": 15,
     "metadata": {},
     "output_type": "execute_result"
    }
   ],
   "source": [
    "tweet"
   ],
   "metadata": {
    "collapsed": false,
    "ExecuteTime": {
     "end_time": "2023-05-22T09:55:51.006194700Z",
     "start_time": "2023-05-22T09:55:50.992060Z"
    }
   }
  },
  {
   "cell_type": "code",
   "execution_count": 15,
   "id": "300c0334",
   "metadata": {
    "ExecuteTime": {
     "end_time": "2023-05-22T09:55:52.342696800Z",
     "start_time": "2023-05-22T09:55:52.321280100Z"
    }
   },
   "outputs": [],
   "source": [
    "\n",
    "    "
   ]
  },
  {
   "cell_type": "code",
   "execution_count": 16,
   "id": "8a6a7df5",
   "metadata": {
    "ExecuteTime": {
     "end_time": "2023-05-22T09:55:52.882564200Z",
     "start_time": "2023-05-22T09:55:52.874473300Z"
    }
   },
   "outputs": [
    {
     "data": {
      "text/plain": "['dive', 'mani', 'time', 'ball', 'manag', 'save', 'rest', 'go', 'bound']"
     },
     "execution_count": 16,
     "metadata": {},
     "output_type": "execute_result"
    }
   ],
   "source": [
    "pre_process_tweet(tweet)"
   ]
  },
  {
   "cell_type": "code",
   "execution_count": null,
   "id": "686933f0",
   "metadata": {},
   "outputs": [],
   "source": []
  }
 ],
 "metadata": {
  "kernelspec": {
   "display_name": "sentimentAnalysis",
   "language": "python",
   "name": "sentimentanalysis"
  },
  "language_info": {
   "codemirror_mode": {
    "name": "ipython",
    "version": 3
   },
   "file_extension": ".py",
   "mimetype": "text/x-python",
   "name": "python",
   "nbconvert_exporter": "python",
   "pygments_lexer": "ipython3",
   "version": "3.11.1"
  }
 },
 "nbformat": 4,
 "nbformat_minor": 5
}
